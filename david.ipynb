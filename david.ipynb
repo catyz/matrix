{
 "cells": [
  {
   "cell_type": "code",
   "execution_count": 1,
   "metadata": {},
   "outputs": [],
   "source": [
    "import matplotlib.pyplot as plt\n",
    "import healpy as hp\n",
    "import numpy as np\n",
    "import pymaster as nmt"
   ]
  },
  {
   "cell_type": "code",
   "execution_count": 2,
   "metadata": {},
   "outputs": [],
   "source": [
    "nsim = 10\n",
    "nside = 128\n",
    "angfrac = 25\n",
    "lmax = 3*nside-1"
   ]
  },
  {
   "cell_type": "code",
   "execution_count": 3,
   "metadata": {},
   "outputs": [],
   "source": [
    "def get_mask_yuyang():\n",
    "    th, ph = hp.pix2ang(nside, np.arange(hp.nside2npix(nside)))\n",
    "    ph[np.where(ph > np.pi)[0]] -= 2 * np.pi\n",
    "    mask = np.zeros(hp.nside2npix(nside))\n",
    "    mask[np.where(np.sqrt(ph**2+((th-np.pi/2)/1)**2)<np.pi/angfrac)[0]] = 1.\n",
    "    msk_apo = nmt.mask_apodization(mask, 5, apotype='C1')\n",
    "    return msk_apo\n",
    "\n",
    "\n",
    "def get_mask_analytic(ns, aps, fsk=0.0945, dec0=0., ra0=0.) :\n",
    "    #This generates a correctly-apodized mask\n",
    "    DTOR = np.pi/180\n",
    "    v0=np.array([np.sin(DTOR*(90-dec0))*np.cos(DTOR*ra0),\n",
    "                 np.sin(DTOR*(90-dec0))*np.sin(DTOR*ra0),\n",
    "                 np.cos(DTOR*(90-dec0))])\n",
    "    vv=np.array(hp.pix2vec(ns,np.arange(hp.nside2npix(ns))))\n",
    "    cth=np.sum(v0[:,None]*vv,axis=0); th=np.arccos(cth); th0=np.arccos(1-2*fsk); th_apo=aps*DTOR\n",
    "    id0=np.where(th>=th0)[0]\n",
    "    id1=np.where(th<=th0-th_apo)[0]\n",
    "    idb=np.where((th>th0-th_apo) & (th<th0))[0]\n",
    "    x=np.sqrt((1-np.cos(th[idb]-th0))/(1-np.cos(th_apo)))\n",
    "    mask_apo=np.zeros(hp.nside2npix(ns))\n",
    "    mask_apo[id0]=0.\n",
    "    mask_apo[id1]=1.\n",
    "    mask_apo[idb]=x-np.sin(2*np.pi*x)/(2*np.pi)\n",
    "    return mask_apo"
   ]
  },
  {
   "cell_type": "code",
   "execution_count": 4,
   "metadata": {},
   "outputs": [
    {
     "name": "stderr",
     "output_type": "stream",
     "text": [
      "/scratch/yuyang/conda/envs/toast/lib/python3.8/site-packages/healpy/projaxes.py:920: MatplotlibDeprecationWarning: You are modifying the state of a globally registered colormap. In future versions, you will not be able to modify a registered colormap in-place. To remove this warning, you can make a copy of the colormap first. cmap = copy.copy(mpl.cm.get_cmap(\"viridis\"))\n",
      "  newcm.set_over(newcm(1.0))\n",
      "/scratch/yuyang/conda/envs/toast/lib/python3.8/site-packages/healpy/projaxes.py:921: MatplotlibDeprecationWarning: You are modifying the state of a globally registered colormap. In future versions, you will not be able to modify a registered colormap in-place. To remove this warning, you can make a copy of the colormap first. cmap = copy.copy(mpl.cm.get_cmap(\"viridis\"))\n",
      "  newcm.set_under(bgcolor)\n",
      "/scratch/yuyang/conda/envs/toast/lib/python3.8/site-packages/healpy/projaxes.py:922: MatplotlibDeprecationWarning: You are modifying the state of a globally registered colormap. In future versions, you will not be able to modify a registered colormap in-place. To remove this warning, you can make a copy of the colormap first. cmap = copy.copy(mpl.cm.get_cmap(\"viridis\"))\n",
      "  newcm.set_bad(badcolor)\n",
      "/scratch/yuyang/conda/envs/toast/lib/python3.8/site-packages/healpy/projaxes.py:202: MatplotlibDeprecationWarning: Passing parameters norm and vmin/vmax simultaneously is deprecated since 3.3 and will become an error two minor releases later. Please pass vmin/vmax directly to the norm when creating it.\n",
      "  aximg = self.imshow(\n"
     ]
    },
    {
     "data": {
      "image/png": "[encoded data removed]",
      "text/plain": [
       "<Figure size 612x388.8 with 2 Axes>"
      ]
     },
     "metadata": {
      "needs_background": "light"
     },
     "output_type": "display_data"
    }
   ],
   "source": [
    "msk_apo = get_mask_analytic(nside, 5., fsk=0.0945/22.7)\n",
    "# Binary mask\n",
    "msk_bin = np.ones_like(msk_apo)\n",
    "msk_bin[msk_apo <= 0] = 0\n",
    "hp.mollview(msk_apo)"
   ]
  },
  {
   "cell_type": "code",
   "execution_count": 5,
   "metadata": {},
   "outputs": [
    {
     "name": "stderr",
     "output_type": "stream",
     "text": [
      "<ipython-input-5-63ba3d68b498>:4: RuntimeWarning: divide by zero encountered in true_divide\n",
      "  prefactor = 2*np.pi/(l*(l+1))\n"
     ]
    }
   ],
   "source": [
    "b = nmt.NmtBin.from_nside_linear(nside, 32)\n",
    "leff = b.get_effective_ells()\n",
    "l, cltt, clee, clbb, clte = np.loadtxt('totcls_r0.txt', unpack=True)\n",
    "prefactor = 2*np.pi/(l*(l+1))\n",
    "prefactor[0] = 0.\n",
    "cltt *= prefactor\n",
    "clee *= prefactor\n",
    "clbb *= prefactor\n",
    "clte *= prefactor\n",
    "cltt = cltt[:3*nside]\n",
    "clee = clee[:3*nside]\n",
    "clbb = clbb[:3*nside]\n",
    "clte = clte[:3*nside]\n",
    "cl_th = np.array([clee, np.zeros_like(clee), np.zeros_like(clee), clbb])"
   ]
  },
  {
   "cell_type": "code",
   "execution_count": 6,
   "metadata": {},
   "outputs": [],
   "source": [
    "def get_fields():\n",
    "    mp_t, mp_q, mp_u = hp.synfast([cltt, clee, clbb, clte], nside=nside,\n",
    "                                  lmax=lmax, new=True, verbose=False)\n",
    "    # This creates a spin-2 field without purifying either E or B\n",
    "    f2_np = nmt.NmtField(msk_apo, [mp_q*msk_bin, mp_u*msk_bin])\n",
    "    # This creates a spin-2 field with both pure E and B.\n",
    "    f2_yp = nmt.NmtField(msk_apo, [mp_q*msk_bin, mp_u*msk_bin],\n",
    "                         purify_b=True, n_iter_mask_purify=10)\n",
    "    # Note that generally it's not a good idea to purify both,\n",
    "    # since you'll lose sensitivity on E\n",
    "    return f2_np, f2_yp"
   ]
  },
  {
   "cell_type": "code",
   "execution_count": 7,
   "metadata": {},
   "outputs": [],
   "source": [
    "# Get workspaces\n",
    "f2np0, f2yp0 = get_fields()\n",
    "w_np = nmt.NmtWorkspace()\n",
    "w_np.compute_coupling_matrix(f2np0, f2np0, b)\n",
    "w_yp = nmt.NmtWorkspace()\n",
    "w_yp.compute_coupling_matrix(f2yp0, f2yp0, b)\n",
    "\n",
    "# Theory C_ells\n",
    "cl_th_np = w_np.decouple_cell(w_np.couple_cell(cl_th))\n",
    "cl_th_yp = w_yp.decouple_cell(w_yp.couple_cell(cl_th))"
   ]
  },
  {
   "cell_type": "code",
   "execution_count": 8,
   "metadata": {},
   "outputs": [
    {
     "name": "stdout",
     "output_type": "stream",
     "text": [
      "0\n",
      "1\n",
      "2\n",
      "3\n",
      "4\n",
      "5\n",
      "6\n",
      "7\n",
      "8\n",
      "9\n"
     ]
    }
   ],
   "source": [
    "# Loop over simulations\n",
    "cls_np = []\n",
    "cls_yp = []\n",
    "for i in range(nsim):\n",
    "    print(i)\n",
    "    fn, fy = get_fields()\n",
    "    cls_np.append(w_np.decouple_cell(nmt.compute_coupled_cell(fn, fn)))\n",
    "    cls_yp.append(w_yp.decouple_cell(nmt.compute_coupled_cell(fy, fy)))\n",
    "cls_np = np.array(cls_np)\n",
    "cls_yp = np.array(cls_yp)\n",
    "cl_np = np.mean(cls_np, axis=0)\n",
    "el_np = np.std(cls_np, axis=0)\n",
    "cl_yp = np.mean(cls_yp, axis=0)\n",
    "el_yp = np.std(cls_yp, axis=0)"
   ]
  },
  {
   "cell_type": "code",
   "execution_count": 10,
   "metadata": {},
   "outputs": [
    {
     "data": {
      "image/png": "[encoded data removed]",
      "text/plain": [
       "<Figure size 432x288 with 1 Axes>"
      ]
     },
     "metadata": {
      "needs_background": "light"
     },
     "output_type": "display_data"
    }
   ],
   "source": [
    "# Plot results\n",
    "plt.figure()\n",
    "plt.errorbar(leff, cl_yp[3], yerr=el_yp[3], fmt='b.')\n",
    "#plt.errorbar(leff, cl_np[3], yerr=el_np[3], fmt='r.')\n",
    "\n",
    "plt.plot(leff, cl_th_yp[3], 'b-')\n",
    "#plt.plot(leff, cl_th_np[3], 'r-')\n",
    "\n",
    "\n",
    "#plt.yscale('log')\n",
    "#plt.xscale('log')\n",
    "\n",
    "plt.show()"
   ]
  },
  {
   "cell_type": "code",
   "execution_count": null,
   "metadata": {},
   "outputs": [],
   "source": []
  }
 ],
 "metadata": {
  "kernelspec": {
   "display_name": "Python 3",
   "language": "python",
   "name": "python3"
  },
  "language_info": {
   "codemirror_mode": {
    "name": "ipython",
    "version": 3
   },
   "file_extension": ".py",
   "mimetype": "text/x-python",
   "name": "python",
   "nbconvert_exporter": "python",
   "pygments_lexer": "ipython3",
   "version": "3.8.5"
  }
 },
 "nbformat": 4,
 "nbformat_minor": 4
}
