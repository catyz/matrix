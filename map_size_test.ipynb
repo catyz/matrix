{
 "cells": [
  {
   "cell_type": "code",
   "execution_count": 96,
   "metadata": {},
   "outputs": [],
   "source": [
    "import numpy as np\n",
    "import healpy as hp\n",
    "import gzip\n",
    "import sys\n"
   ]
  },
  {
   "cell_type": "code",
   "execution_count": 97,
   "metadata": {},
   "outputs": [
    {
     "name": "stderr",
     "output_type": "stream",
     "text": [
      "<ipython-input-97-0f3d12253dfa>:5: RuntimeWarning: divide by zero encountered in true_divide\n",
      "  prefactor = 2*np.pi/(ell * (ell + 1))\n"
     ]
    }
   ],
   "source": [
    "nside = 256\n",
    "lmax = 3*nside-1\n",
    "ell, TT, EE, BB, TE = np.loadtxt('totcls_lensed_r0p1.txt', unpack=True)\n",
    "\n",
    "prefactor = 2*np.pi/(ell * (ell + 1))\n",
    "prefactor[0] = 0    \n",
    "cl = np.array([TT, EE, BB, TE])\n",
    "cl *= prefactor"
   ]
  },
  {
   "cell_type": "code",
   "execution_count": 147,
   "metadata": {},
   "outputs": [
    {
     "data": {
      "text/plain": [
       "0.14263916015625"
      ]
     },
     "execution_count": 147,
     "metadata": {},
     "output_type": "execute_result"
    }
   ],
   "source": [
    "mask = np.zeros(hp.nside2npix(nside))\n",
    "th, ph = hp.pix2ang(nside, np.arange(hp.nside2npix(nside)))\n",
    "\n",
    "ph[np.where(ph > np.pi)[0]] -= 2 * np.pi\n",
    "\n",
    "mask[np.where(np.sqrt(ph**2+((th-np.pi/2)/1)**2)<np.pi/4)[0]] = 1.\n",
    "\n",
    "#hp.mollview(mask)\n",
    "\n",
    "fsky = len(np.where(mask!=0)[0])/len(mask)\n",
    "fsky"
   ]
  },
  {
   "cell_type": "code",
   "execution_count": 148,
   "metadata": {},
   "outputs": [],
   "source": [
    "m = hp.synfast(cl, nside, lmax)\n"
   ]
  },
  {
   "cell_type": "code",
   "execution_count": 153,
   "metadata": {},
   "outputs": [
    {
     "data": {
      "text/plain": [
       "18874480"
      ]
     },
     "execution_count": 153,
     "metadata": {},
     "output_type": "execute_result"
    }
   ],
   "source": [
    "sys.getsizeof(mask*m)"
   ]
  },
  {
   "cell_type": "code",
   "execution_count": 154,
   "metadata": {},
   "outputs": [],
   "source": [
    "hp.write_map('test.fits', mask*m, dtype=np.float64, overwrite=True)"
   ]
  },
  {
   "cell_type": "code",
   "execution_count": 155,
   "metadata": {},
   "outputs": [],
   "source": [
    "hp.write_map('test.fits.gz', mask*m, dtype=np.float64, overwrite=True)"
   ]
  },
  {
   "cell_type": "code",
   "execution_count": 156,
   "metadata": {},
   "outputs": [
    {
     "name": "stdout",
     "output_type": "stream",
     "text": [
      "-rw-rw-r-- 1 yuyang yuyang 18881280 Jan 20 19:05 test.fits\n",
      "-rw-rw-r-- 1 yuyang yuyang  3124468 Jan 20 19:06 test.fits.gz\n"
     ]
    }
   ],
   "source": [
    "!ls -l test.fits*"
   ]
  },
  {
   "cell_type": "code",
   "execution_count": 157,
   "metadata": {},
   "outputs": [
    {
     "data": {
      "text/plain": [
       "0.16547967086977153"
      ]
     },
     "execution_count": 157,
     "metadata": {},
     "output_type": "execute_result"
    }
   ],
   "source": [
    "3124468/18881280 "
   ]
  },
  {
   "cell_type": "code",
   "execution_count": 61,
   "metadata": {},
   "outputs": [
    {
     "data": {
      "text/plain": [
       "18201757"
      ]
     },
     "execution_count": 61,
     "metadata": {},
     "output_type": "execute_result"
    }
   ],
   "source": [
    "m_zip = gzip.compress(m)\n",
    "sys.getsizeof(m_zip)"
   ]
  },
  {
   "cell_type": "code",
   "execution_count": 67,
   "metadata": {},
   "outputs": [
    {
     "data": {
      "text/plain": [
       "11948"
      ]
     },
     "execution_count": 67,
     "metadata": {},
     "output_type": "execute_result"
    }
   ],
   "source": [
    "extra_bytes = 3124500  - 3112552\n",
    "extra_bytes"
   ]
  },
  {
   "cell_type": "code",
   "execution_count": 68,
   "metadata": {},
   "outputs": [
    {
     "data": {
      "text/plain": [
       "35757"
      ]
     },
     "execution_count": 68,
     "metadata": {},
     "output_type": "execute_result"
    }
   ],
   "source": [
    "extra_bytes = 18237514 - 18201757\n",
    "extra_bytes"
   ]
  },
  {
   "cell_type": "code",
   "execution_count": 92,
   "metadata": {},
   "outputs": [
    {
     "data": {
      "text/plain": [
       "33.301301300525665"
      ]
     },
     "execution_count": 92,
     "metadata": {},
     "output_type": "execute_result"
    }
   ],
   "source": [
    "35757/ 1024**3 * 1e6"
   ]
  },
  {
   "cell_type": "code",
   "execution_count": 95,
   "metadata": {},
   "outputs": [
    {
     "data": {
      "text/plain": [
       "50000.0"
      ]
     },
     "execution_count": 95,
     "metadata": {},
     "output_type": "execute_result"
    }
   ],
   "source": [
    "1e6/20\n"
   ]
  },
  {
   "cell_type": "code",
   "execution_count": null,
   "metadata": {},
   "outputs": [],
   "source": []
  }
 ],
 "metadata": {
  "kernelspec": {
   "display_name": "Python 3",
   "language": "python",
   "name": "python3"
  },
  "language_info": {
   "codemirror_mode": {
    "name": "ipython",
    "version": 3
   },
   "file_extension": ".py",
   "mimetype": "text/x-python",
   "name": "python",
   "nbconvert_exporter": "python",
   "pygments_lexer": "ipython3",
   "version": "3.8.5"
  }
 },
 "nbformat": 4,
 "nbformat_minor": 4
}
