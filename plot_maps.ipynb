{
 "cells": [
  {
   "cell_type": "code",
   "execution_count": 1,
   "metadata": {},
   "outputs": [],
   "source": [
    "import numpy as np\n",
    "import matplotlib.pyplot as plt\n",
    "import healpy as hp\n",
    "import pymaster as nmt"
   ]
  },
  {
   "cell_type": "code",
   "execution_count": null,
   "metadata": {},
   "outputs": [],
   "source": [
    "nreal = 10\n",
    "nside = 128\n",
    "lmax = 3*nside-1\n",
    "npix = hp.nside2npix(nside)\n",
    "b = nmt.NmtBin.from_nside_linear(nside, 32, is_Dell=True)\n",
    "ell = b.get_effective_ells()\n",
    "\n",
    "total = np.loadtxt('totcls.txt')\n",
    "ell_theory, TT, EE, BB, TE = np.transpose(total[0:lmax])\n",
    "mask = hp.read_map('./out_maps/0/lcdm_telescope_all_time_all_invnpp.fits', field=[0], verbose=False, dtype=np.float64)\n",
    "mask[np.where(mask>0)] = 1\n",
    "mask_apo = nmt.mask_apodization(mask, 0.3, apotype='C1')"
   ]
  },
  {
   "cell_type": "code",
   "execution_count": null,
   "metadata": {},
   "outputs": [],
   "source": [
    "hp.mollview(mask)"
   ]
  },
  {
   "cell_type": "code",
   "execution_count": null,
   "metadata": {},
   "outputs": [],
   "source": [
    "cl_in = []\n",
    "cl_out = []\n",
    "cl_pure = []\n",
    "\n",
    "for i in range(nreal):\n",
    "    #INPUT MAPS\n",
    "    f_in = nmt.NmtField(mask=np.ones(npix), maps=hp.read_map(f'./input_maps/map_{i}.fits', field=[1,2], verbose=False, dtype=np.float64))\n",
    "    cl_in.append(nmt.compute_full_master(f_in, f_in, b))\n",
    "\n",
    "    #OUTPUT MAPS\n",
    "    f_out = nmt.NmtField(mask=mask_apo, maps=hp.read_map(f'./out_maps/{i}/lcdm_telescope_all_time_all_binned.fits', field=[1,2], verbose=False, dtype=np.float64), masked_on_input=False)\n",
    "    cl_out.append(nmt.compute_full_master(f_out, f_out, b))\n",
    "    \n",
    "    #PURIFICATION\n",
    "    f_pure = nmt.NmtField(mask=mask, maps=hp.read_map(f'./out_maps/{i}/lcdm_telescope_all_time_all_binned.fits', field=[1,2], verbose=False, dtype=np.float64), masked_on_input=False, purify_b=True)\n",
    "    cl_pure.append(nmt.compute_full_master(f_pure, f_pure, b))"
   ]
  },
  {
   "cell_type": "code",
   "execution_count": null,
   "metadata": {},
   "outputs": [],
   "source": [
    "# plt.plot(ell_theory, EE, label='Theory EE')\n",
    "# plt.plot(ell_theory, BB, label='Theory BB (r=0.01)')\n",
    "\n",
    "plt.errorbar(ell, np.mean(cl_in, axis=0)[0], yerr=np.std(cl_in, axis=0)[0], label='input EE, full sky')\n",
    "plt.errorbar(ell, np.mean(cl_in, axis=0)[3], yerr=np.std(cl_in, axis=0)[3], label='input BB, full sky')\n",
    "plt.errorbar(ell, np.mean(cl_out, axis=0)[0], yerr=np.std(cl_out, axis=0)[0], label='output EE')\n",
    "plt.errorbar(ell, np.mean(cl_out, axis=0)[3], yerr=np.std(cl_out, axis=0)[3], label='output BB')\n",
    "plt.errorbar(ell, np.mean(cl_pure, axis=0)[3], yerr=np.std(cl_pure, axis=0)[3], label='output BB, purified')\n",
    "\n",
    "plt.yscale('log')\n",
    "plt.xscale('log')\n",
    "\n",
    "plt.legend()\n",
    "plt.xlabel('$\\ell$')\n",
    "plt.ylabel('$D_\\ell$')"
   ]
  }
 ],
 "metadata": {
  "kernelspec": {
   "display_name": "Python 3",
   "language": "python",
   "name": "python3"
  },
  "language_info": {
   "codemirror_mode": {
    "name": "ipython",
    "version": 3
   },
   "file_extension": ".py",
   "mimetype": "text/x-python",
   "name": "python",
   "nbconvert_exporter": "python",
   "pygments_lexer": "ipython3",
   "version": "3.8.5"
  }
 },
 "nbformat": 4,
 "nbformat_minor": 4
}
