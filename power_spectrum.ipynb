{
 "cells": [
  {
   "cell_type": "code",
   "execution_count": 1,
   "metadata": {},
   "outputs": [],
   "source": [
    "import numpy as np\n",
    "import matplotlib.pyplot as plt\n",
    "import healpy as hp\n",
    "import pymaster as nmt\n",
    "import scipy.sparse as sparse"
   ]
  },
  {
   "cell_type": "code",
   "execution_count": 2,
   "metadata": {},
   "outputs": [
    {
     "name": "stderr",
     "output_type": "stream",
     "text": [
      "/scratch/yuyang/conda/envs/toast/lib/python3.8/site-packages/healpy/fitsfunc.py:368: UserWarning: If you are not specifying the input dtype and using the default np.float64 dtype of read_map(), please consider that it will change in a future version to None as to keep the same dtype of the input file: please explicitly set the dtype if it is important to you.\n",
      "  warnings.warn(\n"
     ]
    },
    {
     "name": "stdout",
     "output_type": "stream",
     "text": [
      "1653\n"
     ]
    }
   ],
   "source": [
    "mask = hp.read_map('./toast_maps/0/lcdm_telescope_all_time_all_invnpp.fits',verbose=False, dtype=np.float64)\n",
    "pure_B = sparse.load_npz('pure_B_500.npz')\n",
    "mask[np.where(mask!=0)] = 1\n",
    "#mask_apo = mask\n",
    "mask_apo = nmt.mask_apodization(mask, 5, apotype='C1')\n",
    "\n",
    "fsky = len(np.where(mask==1)[0])/len(mask)\n",
    "print(len(np.where(mask==1)[0]))"
   ]
  },
  {
   "cell_type": "code",
   "execution_count": 3,
   "metadata": {},
   "outputs": [],
   "source": [
    "nreal = 100\n",
    "nside = hp.get_nside(mask)\n",
    "lmax = 3*nside-1\n",
    "beam_fwhm = 2.2\n",
    "npix = hp.nside2npix(nside)\n",
    "b = nmt.NmtBin.from_nside_linear(nside, 32, is_Dell=True)\n",
    "ell = b.get_effective_ells()\n",
    "\n",
    "#beam\n",
    "#b_ell = hp.gauss_beam(beam_fwhm*np.pi/10800, lmax)\n",
    "\n",
    "ell_th, TT, EE, BB, TE = np.loadtxt('totcls_lensed_r0p1.txt', unpack=True)\n",
    "#ell_th, TT, EE, BB, TE = np.loadtxt('test_dls.txt', unpack=True)"
   ]
  },
  {
   "cell_type": "code",
   "execution_count": 42,
   "metadata": {},
   "outputs": [
    {
     "name": "stderr",
     "output_type": "stream",
     "text": [
      "/scratch/yuyang/conda/envs/toast/lib/python3.8/site-packages/healpy/fitsfunc.py:368: UserWarning: If you are not specifying the input dtype and using the default np.float64 dtype of read_map(), please consider that it will change in a future version to None as to keep the same dtype of the input file: please explicitly set the dtype if it is important to you.\n",
      "  warnings.warn(\n"
     ]
    },
    {
     "data": {
      "image/png": "[encoded data removed]",
      "text/plain": [
       "<Figure size 432x288 with 1 Axes>"
      ]
     },
     "metadata": {
      "needs_background": "light"
     },
     "output_type": "display_data"
    }
   ],
   "source": [
    "f_pure = nmt.NmtField(mask=mask_apo, maps=mask*hp.read_map('./input_maps/map_0.fits', field=[1,2], verbose=False, dtype=np.float64), n_iter_mask_purify = 10, purify_b = True) #beam = b_ell,\n",
    "f_mat = nmt.NmtField(mask=np.ones_like(mask_apo), maps=mask*hp.read_map(f'./input_maps/map_0.fits', field=[1,2], verbose=False, dtype=np.float64) ) #beam = b_ell\n",
    "\n",
    "f_out = nmt.NmtField(mask=mask_apo, maps=mask*hp.read_map('./input_maps/map_0.fits', field=[1,2], verbose=False, dtype=np.float64) ) #beam = b_ell\n",
    "f_in = nmt.NmtField(mask=np.ones(npix), maps=hp.read_map('./input_maps/map_0.fits', field=[1,2], verbose=False, dtype=np.float64) )#, beam = b_ell)\n",
    "\n",
    "w_in = nmt.NmtWorkspace()\n",
    "w_in.compute_coupling_matrix(f_in, f_in, b)\n",
    "\n",
    "w_out = nmt.NmtWorkspace()\n",
    "w_out.compute_coupling_matrix(f_out, f_out, b)\n",
    "\n",
    "w_pure = nmt.NmtWorkspace()\n",
    "w_pure.compute_coupling_matrix(f_pure, f_pure, b)\n",
    "\n",
    "w_mat = nmt.NmtWorkspace()\n",
    "w_mat.compute_coupling_matrix(f_mat, f_mat, b)\n",
    "\n",
    "cl_th = np.array([EE, np.zeros_like(EE), np.zeros_like(EE), BB])\n",
    "cl_th_binned = w_pure.decouple_cell(w_pure.couple_cell(cl_th))\n",
    "\n",
    "prefactor = 2*np.pi/ell/(ell+1)\n",
    "cl_th_binned *= prefactor\n",
    "\n",
    "plt.plot(ell, cl_th_binned[3])\n",
    "plt.plot(ell_th, cl_th[3])\n",
    "plt.yscale('log')\n",
    "plt.xscale('log')"
   ]
  },
  {
   "cell_type": "code",
   "execution_count": 5,
   "metadata": {},
   "outputs": [],
   "source": [
    "# ft_EE = np.load('ft_EE.npy')\n",
    "#ft_BB = np.load('ft_BB.npy')\n",
    "\n",
    "transfer = np.load('transfer.npy')\n"
   ]
  },
  {
   "cell_type": "code",
   "execution_count": 6,
   "metadata": {},
   "outputs": [],
   "source": [
    "def compute_master(f_a, f_b, wsp):\n",
    "    # Compute the power spectrum (a la anafast) of the masked fields\n",
    "    # Note that we only use n_iter=0 here to speed up the computation,\n",
    "    # but the default value of 3 is recommended in general.\n",
    "    cl_coupled = nmt.compute_coupled_cell(f_a, f_b)\n",
    "#     cl_coupled[0] *= ft_EE\n",
    "#    cl_coupled[3] *= ft_BB\n",
    "\n",
    "#    cl_coupled[3] /= apo_transfer\n",
    "\n",
    "    # Decouple power spectrum into bandpowers inverting the coupling matrix\n",
    "    cl_decoupled = wsp.decouple_cell(cl_coupled)\n",
    "\n",
    "    return cl_decoupled, cl_coupled"
   ]
  },
  {
   "cell_type": "code",
   "execution_count": 7,
   "metadata": {},
   "outputs": [],
   "source": [
    "# cl_out = []\n",
    "cl_mean = np.zeros_like(cl_th_binned)\n",
    "cl_std = np.zeros_like(cl_th_binned)\n",
    "\n",
    "cl_in_mean = np.zeros_like(cl_th_binned)\n",
    "cl_in_std = np.zeros_like(cl_th_binned)\n",
    "\n",
    "# reg_cl_mean = np.zeros_like(cl_th_binned)\n",
    "# reg_cl_std = np.zeros_like(cl_th_binned)\n",
    "\n",
    "pure_cl_mean = np.zeros_like(cl_th_binned)\n",
    "pure_cl_std = np.zeros_like(cl_th_binned)\n",
    "\n",
    "cl_anafast_mean = np.zeros(lmax+1)\n",
    "cl_anafast_std = np.zeros(lmax+1)\n",
    "\n",
    "pcl_mean = np.zeros((4, lmax+1), dtype=np.float64)\n",
    "pcl_std = np.zeros((4, lmax+1), dtype=np.float64)\n",
    "\n",
    "#transfer = np.zeros_like(cl_th_binned[0])\n",
    "\n",
    "for i in range(nreal):\n",
    "    \n",
    "    #Full sky\n",
    "#     f_in = nmt.NmtField(mask=np.ones_like(mask), maps=hp.read_map(f'./input_maps/map_{i}.fits', field=[1,2], verbose=False, dtype=np.float64)) #, beam = b_ell\n",
    "#     cl_in, _ = compute_master(f_in, f_in, w_in)\n",
    "#     cl_in_mean += cl_in\n",
    "#     cl_in_std += cl_in*cl_in\n",
    "\n",
    "    #REGULAR\n",
    "#     f_out = nmt.NmtField(mask=mask_apo, maps=mask*hp.read_map(f'./toast_maps/{i}/lcdm_telescope_all_time_all_binned.fits', field=[1,2], verbose=False, dtype=np.float64)) #, beam = b_ell\n",
    "#     cl, pcl = compute_master(f_out, f_out, w_out)\n",
    "#     reg_cl_mean += cl\n",
    "#     reg_cl_std += cl*cl\n",
    "    \n",
    "    #KS PURIFICATION\n",
    "    f_pure = nmt.NmtField(mask=mask_apo, maps=mask*hp.read_map(f'./toast_maps/{i}/lcdm_telescope_all_time_all_binned.fits', field=[1,2], verbose=False, dtype=np.float64), n_iter_mask_purify=10, purify_b=True) #, beam = b_ell\n",
    "    cl, pcl = compute_master(f_pure, f_pure, w_pure)\n",
    "    cl_mean += cl\n",
    "    cl_std += cl*cl\n",
    "#     pcl_mean += pcl\n",
    "#     pcl_std += pcl*pcl\n",
    "    \n",
    "    #MAT PURIFICATION\n",
    "    m = mask_apo*hp.read_map(f'./toast_maps/{i}/lcdm_telescope_all_time_all_binned.fits', field=[1,2], verbose=False, dtype=np.float64)\n",
    "    m_pure = pure_B.dot(np.concatenate(m)).reshape(2, npix)\n",
    "    f_mat = nmt.NmtField(mask=np.ones_like(mask), maps=[m_pure[0], m_pure[1]]) #beam = b_ell\n",
    "    \n",
    "    cl_coupled = nmt.compute_coupled_cell(f_mat, f_mat)\n",
    "    cl_decoupled = w_mat.decouple_cell(cl_coupled)\n",
    "    cl_decoupled[3] *= transfer\n",
    "\n",
    "    pcl = cl_coupled\n",
    "    cl = cl_decoupled\n",
    "    \n",
    "    pure_cl_mean += cl\n",
    "    pure_cl_std += cl*cl\n",
    "    \n",
    "    pcl_mean += pcl\n",
    "    pcl_std += pcl*pcl\n",
    "    \n",
    "#     trans = cl_in[3] / cl[3]\n",
    "#     transfer += trans\n",
    "    \n",
    "    #ana fast\n",
    "#     m = mask_apo*hp.read_map(f'./toast_maps/{i}/lcdm_telescope_all_time_all_binned.fits', field=[1,2], verbose=False, dtype=np.float64)\n",
    "#     m_pure = pure_B.dot(np.concatenate(m)).reshape(2, npix)\n",
    "#     cl = hp.anafast([np.zeros(npix), m_pure[0], m_pure[1]])[2]\n",
    "#     cl_anafast_mean += cl\n",
    "#     cl_anafast_std += cl*cl\n",
    "\n",
    "#transfer /= nreal\n",
    "\n",
    "pcl_mean /= nreal\n",
    "pcl_std = np.sqrt(pcl_std / nreal - pcl_mean*pcl_mean)\n",
    "\n",
    "cl_mean /= nreal\n",
    "cl_std = np.sqrt(cl_std / nreal - cl_mean*cl_mean)\n",
    "\n",
    "cl_in_mean /= nreal\n",
    "cl_in_std = np.sqrt(cl_in_std / nreal - cl_in_mean*cl_in_mean)\n",
    "\n",
    "# reg_cl_mean /= nreal\n",
    "# reg_cl_std = np.sqrt(reg_cl_std / nreal - reg_cl_mean*reg_cl_mean)\n",
    "\n",
    "pure_cl_mean /= nreal\n",
    "pure_cl_std = np.sqrt(pure_cl_std / nreal - pure_cl_mean*pure_cl_mean)\n",
    "\n",
    "cl_anafast_mean /= nreal\n",
    "cl_anafast_std = np.sqrt(cl_anafast_std / nreal - cl_anafast_mean*cl_anafast_mean)\n",
    "\n",
    "#np.save('pcl_no_filt', pcl_mean)"
   ]
  },
  {
   "cell_type": "code",
   "execution_count": 8,
   "metadata": {},
   "outputs": [
    {
     "data": {
      "text/plain": [
       "[<matplotlib.lines.Line2D at 0x7fd788d26250>]"
      ]
     },
     "execution_count": 8,
     "metadata": {},
     "output_type": "execute_result"
    },
    {
     "data": {
      "image/png": "[encoded data removed]",
      "text/plain": [
       "<Figure size 432x288 with 1 Axes>"
      ]
     },
     "metadata": {
      "needs_background": "light"
     },
     "output_type": "display_data"
    }
   ],
   "source": [
    "plt.plot(transfer)\n",
    "#np.save('transfer.npy', transfer)"
   ]
  },
  {
   "cell_type": "code",
   "execution_count": 9,
   "metadata": {},
   "outputs": [],
   "source": [
    "# m_q, m_u = mask*hp.read_map(f'./out_maps/{i}/lcdm_telescope_all_time_all_binned.fits', field=[1,2], verbose=False, dtype=np.float64)\n",
    "# m_pure = pure_B.dot(np.concatenate([m_q, m_u]))\n",
    "# m_pure = purified_m.reshape(2, npix)\n",
    "# cl_anafast = hp.anafast([np.zeros(npix), m_pure[0], m_pure[1]])\n",
    "# ell_t = ell_th[:lmax+1]\n",
    "# pref = ell_t*(ell_t+1)/2/np.pi\n",
    "# plt.loglog(ell_t, pref*cl_anafast[2]/fsky)\n",
    "# plt.loglog(ell_th, BB, label='Theory BB')\n"
   ]
  },
  {
   "cell_type": "code",
   "execution_count": 10,
   "metadata": {},
   "outputs": [
    {
     "data": {
      "text/plain": [
       "Text(0.5, 1.0, 'BB of r=0.1 maps')"
      ]
     },
     "execution_count": 10,
     "metadata": {},
     "output_type": "execute_result"
    },
    {
     "data": {
      "image/png": "[encoded data removed]",
      "text/plain": [
       "<Figure size 1080x720 with 1 Axes>"
      ]
     },
     "metadata": {
      "needs_background": "light"
     },
     "output_type": "display_data"
    }
   ],
   "source": [
    "plt.figure(figsize=(15,10)) \n",
    "#plt.plot(ell_th, EE, label='Theory EE')\n",
    "plt.plot(ell_th[:lmax], BB[:lmax], label='Theory BB')\n",
    "\n",
    "# plt.errorbar(ell, np.mean(cl_in, axis=0)[0], yerr=np.std(cl_in, axis=0)[0], label='input EE, full sky')\n",
    "# plt.errorbar(ell, np.mean(cl_in, axis=0)[3], yerr=np.std(cl_in, axis=0)[3], label='input BB, full sky')\n",
    "\n",
    "#plt.errorbar(ell, np.mean(cl_out, axis=0)[0], yerr=np.std(cl_out, axis=0)[0], fmt='.', label='output EE')\n",
    "#plt.errorbar(ell, reg_cl_mean[3], yerr=reg_cl_std[3], fmt='.', label='regular BB')\n",
    "#plt.fill_between(ell, reg_cl_mean[3]+reg_cl_std[3], reg_cl_mean[3]-reg_cl_std[3], alpha=0.5)\n",
    "\n",
    "#plt.errorbar(ell, cl_in_mean[3], yerr=cl_in_std[3], fmt='o', label='fullsky BB')\n",
    "\n",
    "#plt.errorbar(ell, cl_mean[0], yerr=cl_std[0], fmt='.', label='output EE')\n",
    "plt.errorbar(ell, cl_mean[3], yerr=cl_std[3], fmt='o', label='Smith BB')\n",
    "#plt.fill_between(ell, cl_mean[3]+cl_std[3], cl_mean[3]-cl_std[3], alpha=0.5)\n",
    "\n",
    "\n",
    "#plt.errorbar(ell, pure_cl_mean[0]/fsky, yerr=pure_cl_std[0], fmt='.', label='output EE')\n",
    "plt.errorbar(ell, pure_cl_mean[3], yerr=pure_cl_std[3], fmt='o', label='matrix BB')\n",
    "#plt.fill_between(ell, pure_cl_mean[3]/fsky+pure_cl_std[3], pure_cl_mean[3]/fsky-pure_cl_std[3])\n",
    "\n",
    "\n",
    "# ell_t = ell_th[:lmax+1]\n",
    "# pref = ell_t*(ell_t+1)/2/np.pi\n",
    "# plt.errorbar(ell_t, pref*cl_anafast_mean*apo_transfer, yerr=cl_anafast_std, fmt='.', label='matrix BB')\n",
    "\n",
    "\n",
    "# ell_pcl = np.arange(lmax+1)\n",
    "# pref=ell_pcl*(ell_pcl+1)/2/np.pi\n",
    "# #plt.plot(ell_pcl, pcl_mean[0],  label='pseudo EE')\n",
    "# plt.plot(ell_pcl, pref*pcl_mean[3],  label='pseudo BB')\n",
    "\n",
    "#binned theory?\n",
    "# plt.plot(ell, cl_th_binned[0], label='Binned theory BB')\n",
    "plt.plot(ell, cl_th_binned[3], label='Binned theory BB')\n",
    "\n",
    "plt.yscale('log')\n",
    "#plt.xscale('log')\n",
    "plt.grid()\n",
    "\n",
    "plt.legend()\n",
    "plt.xlabel('$\\ell$')\n",
    "plt.ylabel('$D_\\ell$')\n",
    "plt.title('BB of r=0.1 maps')"
   ]
  },
  {
   "cell_type": "code",
   "execution_count": 37,
   "metadata": {},
   "outputs": [
    {
     "data": {
      "image/png": "[encoded data removed]",
      "text/plain": [
       "<Figure size 432x288 with 1 Axes>"
      ]
     },
     "metadata": {
      "needs_background": "light"
     },
     "output_type": "display_data"
    }
   ],
   "source": [
    "plt.plot(ell, cl_std[3])\n",
    "plt.plot(ell, pure_cl_std[3])\n",
    "plt.yscale('log')"
   ]
  },
  {
   "cell_type": "code",
   "execution_count": 14,
   "metadata": {},
   "outputs": [],
   "source": [
    "# #compute filter transfer\n",
    "# pcl_filt = np.load('pcl_filt.npy')\n",
    "# pcl_no_filt = np.load('pcl_no_filt.npy')\n",
    "\n",
    "# ft_EE = pcl_no_filt[0]/pcl_filt[0]\n",
    "# ft_BB = pcl_no_filt[3]/pcl_filt[3]\n",
    "\n",
    "# ft_EE[0]=ft_EE[1] = ft_BB[0] = ft_BB[1] = 0\n",
    "\n",
    "# np.save('ft_EE', ft_EE)\n",
    "# np.save('ft_BB', ft_BB)"
   ]
  },
  {
   "cell_type": "code",
   "execution_count": 15,
   "metadata": {},
   "outputs": [],
   "source": [
    "# plt.plot(ell, np.std(cl_out, axis=0)[3], label='output BB')\n",
    "# plt.plot(ell, np.std(cl_pure, axis=0)[3], label='purified BB')\n",
    "# plt.legend()\n",
    "# plt.xlabel('$\\ell$')\n",
    "# plt.ylabel('$\\sigma(D_\\ell$)')\n",
    "# plt.yscale('log')\n",
    "# plt.xscale('log')\n",
    "         "
   ]
  },
  {
   "cell_type": "code",
   "execution_count": 16,
   "metadata": {},
   "outputs": [],
   "source": [
    "# plt.figure(figsize=(20,10)) \n",
    "# # plt.plot(ell_theory, EE, label='Theory EE')\n",
    "# # plt.plot(ell_theory, BB, label='Theory BB')\n",
    "\n",
    "# #plt.errorbar(ell, filt_EE*EE, yerr=np.std(cl_out, axis=0)[0], fmt='.', label='output EE')\n",
    "# #plt.errorbar(ell, filt_BB*BB, yerr=np.std(cl_out, axis=0)[3], fmt='.', label='output BB')\n",
    "\n",
    "# plt.errorbar(ell, EE/ft_EE, yerr=cl_std[0], fmt='.', label='output EE')\n",
    "# plt.errorbar(ell, BB/ft_BB, yerr=cl_std[3], fmt='.', label='output BB, purified')\n",
    "\n",
    "# #binned theory?\n",
    "# plt.plot(ell, cl_th_binned[0], label='Binned theory EE')\n",
    "# plt.plot(ell, cl_th_binned[3], label='Binned theory BB')\n",
    "\n",
    "# plt.yscale('log')\n",
    "# plt.xscale('log')\n",
    "\n",
    "# plt.legend()\n",
    "# plt.xlabel('$\\ell$')\n",
    "# plt.ylabel('$D_\\ell$')"
   ]
  },
  {
   "cell_type": "code",
   "execution_count": 17,
   "metadata": {},
   "outputs": [],
   "source": [
    "#f = np.array([np.ones(lmax), np.ones(lmax), np.ones(lmax)])"
   ]
  },
  {
   "cell_type": "code",
   "execution_count": 18,
   "metadata": {},
   "outputs": [],
   "source": [
    "#m = w_pure.get_coupling_matrix()"
   ]
  },
  {
   "cell_type": "code",
   "execution_count": null,
   "metadata": {},
   "outputs": [],
   "source": []
  },
  {
   "cell_type": "code",
   "execution_count": null,
   "metadata": {},
   "outputs": [],
   "source": []
  },
  {
   "cell_type": "code",
   "execution_count": null,
   "metadata": {},
   "outputs": [],
   "source": []
  },
  {
   "cell_type": "code",
   "execution_count": null,
   "metadata": {},
   "outputs": [],
   "source": []
  },
  {
   "cell_type": "code",
   "execution_count": null,
   "metadata": {},
   "outputs": [],
   "source": []
  },
  {
   "cell_type": "code",
   "execution_count": null,
   "metadata": {},
   "outputs": [],
   "source": []
  },
  {
   "cell_type": "code",
   "execution_count": 19,
   "metadata": {},
   "outputs": [],
   "source": [
    "# cl_out = []\n",
    "# cl_pure = []\n",
    "\n",
    "# for i in range(nreal):\n",
    "\n",
    "#     #OUTPUT MAPS\n",
    "#     f_out = nmt.NmtField(mask=mask_apo, maps=mask*hp.read_map(f'./input_maps/map_{i}.fits', field=[1,2], verbose=False, dtype=np.float64), beam=b_ell)\n",
    "#     cl_out.append(compute_master(f_out, f_out, w_out))\n",
    "    \n",
    "#     #PURIFICATION\n",
    "#     f_pure = nmt.NmtField(mask=mask_apo, maps=mask*hp.read_map(f'./input_maps/map_{i}.fits', field=[1,2], verbose=False, dtype=np.float64), beam=b_ell, n_iter_mask_purify=10, purify_b=True)\n",
    "#     cl_pure.append(compute_master(f_pure, f_pure, w_pure))\n"
   ]
  },
  {
   "cell_type": "code",
   "execution_count": 20,
   "metadata": {},
   "outputs": [],
   "source": [
    "# nside = hp.get_nside(mask)\n",
    "\n",
    "# th, ph = hp.pix2ang(nside, np.arange(hp.nside2npix(nside)))\n",
    "# ph[np.where(ph > np.pi)[0]] -= 2 * np.pi\n",
    "\n",
    "# ph_max = np.max(ph[np.where(mask!=0)])\n",
    "# ph_min = np.min(ph[np.where(mask!=0)])\n",
    "\n",
    "# th_max = np.max(th[np.where(mask!=0)])\n",
    "# th_min = np.min(th[np.where(mask!=0)])\n",
    "\n",
    "# print(ph_min, ph_max, th_min, th_max)\n",
    "\n",
    "# ph_center = (ph_min+ph_max)/2\n",
    "# th_center = (th_min+th_max)/2\n",
    "\n",
    "# inv_size = 25\n",
    "# A = 0.15\n",
    "# w = 1.02\n",
    "# l = 1.6\n",
    "# x = 1.75e-2\n",
    "# y= -0.3e-2\n",
    "\n",
    "# mask[np.where( np.sqrt(( (( (ph-ph_center+x)*np.cos(A)+(th-th_center+y)*np.sin(A) )/w)**2 + ( ( (ph-ph_center+x)*np.sin(A)+(th-th_center+y)*np.cos(A) )/l)**2 ))<np.pi/inv_size)[0]] = 2\n",
    "\n",
    "\n",
    "# lon,lat = hp.pix2ang(nside, np.argmax(mask), lonlat=True)\n",
    "# hp.gnomview(mask, rot=(lon, lat), xsize=800, reso=5)"
   ]
  },
  {
   "cell_type": "code",
   "execution_count": 21,
   "metadata": {},
   "outputs": [],
   "source": [
    "# mask = np.zeros(hp.nside2npix(nside))\n",
    "# mask[np.where( np.sqrt(( (( (ph-ph_center+x)*np.cos(A)+(th-th_center+y)*np.sin(A) )/w)**2 + ( ( (ph-ph_center+x)*np.sin(A)+(th-th_center+y)*np.cos(A) )/l)**2 ))<np.pi/inv_size)[0]] = 1\n",
    "# mask_apo = nmt.mask_apodization(mask, 5, apotype='C1')\n",
    "# lon,lat = hp.pix2ang(nside, np.argmax(mask), lonlat=True)\n",
    "# hp.mollview(mask_apo)\n",
    "# hp.gnomview(mask_apo, rot=(lon, lat), xsize=800, reso=5)"
   ]
  },
  {
   "cell_type": "code",
   "execution_count": 22,
   "metadata": {},
   "outputs": [],
   "source": [
    "# nside = 128\n",
    "# mask = np.zeros(hp.nside2npix(nside))\n",
    "# th, ph = hp.pix2ang(nside, np.arange(hp.nside2npix(nside)))\n",
    "\n",
    "# ph[np.where(ph > np.pi)[0]] -= 2 * np.pi\n",
    "\n",
    "# mask[np.where(np.sqrt(ph**2+((th-np.pi/2)/1)**2)<np.pi/25)[0]] = 1.\n",
    "# mask_apo = nmt.mask_apodization(mask, 5, apotype='C1')\n",
    "\n",
    "# hp.mollview(mask_apo)"
   ]
  },
  {
   "cell_type": "code",
   "execution_count": 23,
   "metadata": {},
   "outputs": [],
   "source": [
    "# #check derivatives of mask\n",
    "# def der1(m):\n",
    "#     nside = hp.get_nside(m)\n",
    "#     lmax = 3*nside-1\n",
    "#     alm_orig = hp.map2alm(m, lmax)\n",
    "#     m_orig, dtheta, dphi = hp.alm2map_der1(alm_orig, nside, lmax)\n",
    "#     return m_orig, dtheta, dphi\n",
    "\n",
    "# m, dtheta, dphi = der1(mask_apo)\n",
    "# m, dtheta2, dthetaphi = der1(dtheta)\n",
    "# m, dphitheta, dphi2 = der1(dphi)\n",
    "\n",
    "# lon,lat = hp.pix2ang(nside, np.argmax(mask), lonlat=True)\n",
    "# hp.gnomview(dthetaphi, rot=(lon+5, lat-10), xsize=800, reso=5)"
   ]
  },
  {
   "cell_type": "code",
   "execution_count": 24,
   "metadata": {},
   "outputs": [],
   "source": [
    "# out_map = hp.read_map('./out_maps/0/lcdm_telescope_all_time_all_binned.fits', field=[1,2], verbose=False, dtype=np.float64)\n",
    "# in_map = hp.read_map(f'./input_maps/map_0.fits', field=[1,2], verbose=False, dtype=np.float64)"
   ]
  },
  {
   "cell_type": "code",
   "execution_count": 25,
   "metadata": {},
   "outputs": [],
   "source": [
    "# hp.mollview(in_map[0])"
   ]
  },
  {
   "cell_type": "code",
   "execution_count": 26,
   "metadata": {},
   "outputs": [],
   "source": [
    "# m = mask* in_map[0]\n",
    "# lon,lat = hp.pix2ang(nside, np.argmax(m), lonlat=True)\n",
    "# hp.gnomview(m, rot=(lon, lat), xsize=800, reso=5)"
   ]
  },
  {
   "cell_type": "code",
   "execution_count": 27,
   "metadata": {},
   "outputs": [],
   "source": [
    "# m = out_map[0]\n",
    "# hp.gnomview(m, rot=(lon, lat), xsize=800, reso=5)"
   ]
  },
  {
   "cell_type": "code",
   "execution_count": 28,
   "metadata": {},
   "outputs": [],
   "source": [
    "# raw = np.load('unfiltered_tod.npy')\n",
    "# filtered = np.load('filtered_tod.npy')\n",
    "# # ground = np.load('ground.npy')"
   ]
  },
  {
   "cell_type": "code",
   "execution_count": 29,
   "metadata": {},
   "outputs": [],
   "source": [
    "# plt.plot(raw)\n",
    "# plt.xlim([0,100000])"
   ]
  },
  {
   "cell_type": "code",
   "execution_count": 30,
   "metadata": {},
   "outputs": [],
   "source": [
    "# plt.plot(filtered)\n",
    "# plt.xlim([0,100000])"
   ]
  },
  {
   "cell_type": "code",
   "execution_count": 31,
   "metadata": {},
   "outputs": [],
   "source": [
    "# plt.plot(raw)"
   ]
  },
  {
   "cell_type": "code",
   "execution_count": 32,
   "metadata": {},
   "outputs": [],
   "source": [
    "# from scipy import signal\n",
    "\n",
    "# f, Pxx = signal.welch(raw, fs=152.58)\n",
    "\n",
    "# plt.loglog(f, Pxx)"
   ]
  },
  {
   "cell_type": "code",
   "execution_count": 33,
   "metadata": {},
   "outputs": [],
   "source": [
    "# sos = signal.butter(2, 0.1, 'hp', fs=152.58, output='sos')\n",
    "# filtered = signal.sosfilt(sos, raw)\n",
    "# plt.plot(filtered)\n"
   ]
  },
  {
   "cell_type": "code",
   "execution_count": 34,
   "metadata": {},
   "outputs": [],
   "source": [
    "# f, Pxx_filt = signal.welch(filtered, fs=152.58)\n",
    "# plt.loglog(f, Pxx_filt)\n",
    "# plt.loglog(f, Pxx)"
   ]
  },
  {
   "cell_type": "code",
   "execution_count": null,
   "metadata": {},
   "outputs": [],
   "source": []
  }
 ],
 "metadata": {
  "kernelspec": {
   "display_name": "Python 3",
   "language": "python",
   "name": "python3"
  },
  "language_info": {
   "codemirror_mode": {
    "name": "ipython",
    "version": 3
   },
   "file_extension": ".py",
   "mimetype": "text/x-python",
   "name": "python",
   "nbconvert_exporter": "python",
   "pygments_lexer": "ipython3",
   "version": "3.7.4"
  }
 },
 "nbformat": 4,
 "nbformat_minor": 4
}
